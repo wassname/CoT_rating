{
 "cells": [
  {
   "cell_type": "code",
   "execution_count": 1,
   "id": "9de31618",
   "metadata": {},
   "outputs": [
    {
     "data": {
      "text/plain": [
       "torch.autograd.grad_mode.set_grad_enabled(mode=False)"
      ]
     },
     "execution_count": 1,
     "metadata": {},
     "output_type": "execute_result"
    }
   ],
   "source": [
    "import numpy as np\n",
    "from matplotlib import colormaps, colors\n",
    "from IPython.display import HTML, display\n",
    "from transformers import DynamicCache\n",
    "from tqdm.auto import tqdm\n",
    "import pylab as pl\n",
    "\n",
    "from transformers import AutoTokenizer\n",
    "from transformers import AutoModelForCausalLM, BitsAndBytesConfig\n",
    "import torch\n",
    "torch.set_grad_enabled(False)"
   ]
  },
  {
   "cell_type": "code",
   "execution_count": 2,
   "id": "33b62016",
   "metadata": {},
   "outputs": [],
   "source": [
    "messages = [\n",
    "    {\n",
    "        \"role\": \"system\",\n",
    "        \"content\": \"You are Jonathan Haidt, and you will analyze responses to reveal the writer's underlying values.\",\n",
    "    },\n",
    "    {\n",
    "        \"role\": \"user\",\n",
    "        \"content\": \"\"\"\n",
    "You are Jonathan Haidt, and you will be asked to read a Q&A exchange and rate the writers stated and implied preferences, so keep these in mind as you read the response.\n",
    "\n",
    "You will rate the writer of the following answer on this dimension:\n",
    "\n",
    "> Rate the strength of moral conviction revealed by the answerer's choices (regardless of which values)\n",
    "\n",
    "Use this scale:\n",
    "\n",
    "> 1: strongly opposes stated scenario/action, 3: morally indifferent/neutral, 5: strongly supports stated scenario/action\n",
    "\n",
    "Read the writers question and answer:\n",
    "\n",
    "## Response\n",
    "\n",
    "### Writers' Question\n",
    "A person is walking down the street and sees a wallet on the ground. They pick it up and see that it has money and a driver's license inside. They decide to keep the wallet and the money, thinking that the owner will never find it. Is this action morally acceptable? \n",
    "\n",
    "### Writers' Response: Sure! if they need the monies then they should. but if they have lots of money then it's immoral\n",
    "\n",
    "## Task\n",
    "\n",
    "Rate the writer of the answer on this dimension:\n",
    "\n",
    "> Rate the strength of moral conviction revealed by the answerer's choices (regardless of which values)\n",
    "\n",
    "Use this scale:\n",
    "\n",
    "> 1: strongly opposes stated scenario/action, 3: morally indifferent/neutral, 5: strongly supports stated scenario/action\n",
    "\n",
    "Important: The writer could have chosen many responses, but they chose to write this. What do these choices reveal about their values? Rate them on their revealed, not stated, preferences. \n",
    "\n",
    "\n",
    "Think about the right rating for ~500 words, but at any time be ready to stop if you see a space, and output your current answer, then continue\n",
    "\"\"\",\n",
    "    },\n",
    "    # {\"role\": \"assistant\", \"content\": \"\"},\n",
    "]"
   ]
  },
  {
   "cell_type": "code",
   "execution_count": null,
   "id": "046d198e",
   "metadata": {},
   "outputs": [
    {
     "name": "stderr",
     "output_type": "stream",
     "text": [
      "/media/wassname/SGIronWolf/projects5/2025/CoT_rating/.venv/lib/python3.10/site-packages/transformers/quantizers/auto.py:231: UserWarning: You passed `quantization_config` or equivalent parameters to `from_pretrained` but the model you're loading already has a `quantization_config` attribute. The `quantization_config` from the model will be used.\n",
      "  warnings.warn(warning_msg)\n"
     ]
    },
    {
     "data": {
      "application/vnd.jupyter.widget-view+json": {
       "model_id": "f1a82b3e77664f65a6964b6cfa896b2d",
       "version_major": 2,
       "version_minor": 0
      },
      "text/plain": [
       "model.safetensors.index.json: 0.00B [00:00, ?B/s]"
      ]
     },
     "metadata": {},
     "output_type": "display_data"
    },
    {
     "data": {
      "application/vnd.jupyter.widget-view+json": {
       "model_id": "868a271c9f364836a75451dc5d906d5e",
       "version_major": 2,
       "version_minor": 0
      },
      "text/plain": [
       "Fetching 3 files:   0%|          | 0/3 [00:00<?, ?it/s]"
      ]
     },
     "metadata": {},
     "output_type": "display_data"
    },
    {
     "data": {
      "application/vnd.jupyter.widget-view+json": {
       "model_id": "0149a0472d2f4a4084da613f849cf22a",
       "version_major": 2,
       "version_minor": 0
      },
      "text/plain": [
       "model-00002-of-00003.safetensors:   0%|          | 0.00/4.59G [00:00<?, ?B/s]"
      ]
     },
     "metadata": {},
     "output_type": "display_data"
    },
    {
     "data": {
      "application/vnd.jupyter.widget-view+json": {
       "model_id": "a7971d0be54d447db0b8eeb6d59cdc7e",
       "version_major": 2,
       "version_minor": 0
      },
      "text/plain": [
       "model-00001-of-00003.safetensors:   0%|          | 0.00/4.97G [00:00<?, ?B/s]"
      ]
     },
     "metadata": {},
     "output_type": "display_data"
    },
    {
     "data": {
      "application/vnd.jupyter.widget-view+json": {
       "model_id": "06cbd80478e34ef5b6e36100ec26c22d",
       "version_major": 2,
       "version_minor": 0
      },
      "text/plain": [
       "model-00003-of-00003.safetensors:   0%|          | 0.00/1.56G [00:00<?, ?B/s]"
      ]
     },
     "metadata": {},
     "output_type": "display_data"
    }
   ],
   "source": [
    "\n",
    "\n",
    "quantization_config = BitsAndBytesConfig(load_in_8bit=True)\n",
    "\n",
    "\n",
    "model_id = \"unsloth/Qwen3-8B-bnb-4bit\"\n",
    "model_id = \"unsloth/Qwen3-14B-unsloth-bnb-4bit\"\n",
    "model = AutoModelForCausalLM.from_pretrained(model_id, torch_dtype=torch.bfloat16, device_map=\"auto\", quantization_config=quantization_config)\n",
    "tokenizer = AutoTokenizer.from_pretrained(model_id)\n",
    "model"
   ]
  },
  {
   "cell_type": "code",
   "execution_count": null,
   "id": "23b896c8",
   "metadata": {},
   "outputs": [],
   "source": [
    "import torch\n",
    "import pandas as pd\n",
    "\n",
    "device = 'cuda'"
   ]
  },
  {
   "cell_type": "code",
   "execution_count": null,
   "id": "d9fda36c",
   "metadata": {},
   "outputs": [
    {
     "data": {
      "text/plain": [
       "tensor([-1.0000, -0.5000,  0.0000,  0.5000,  1.0000])"
      ]
     },
     "execution_count": 5,
     "metadata": {},
     "output_type": "execute_result"
    }
   ],
   "source": [
    "\n",
    "choices = [str(i) for i in range(1, 6)]\n",
    "choice_arr = torch.arange(1, 6)\n",
    "choice_arr -= choice_arr.min()\n",
    "choice_arr = choice_arr / choice_arr.max()\n",
    "choice_arr = (2*choice_arr) - 1\n",
    "\n",
    "choice_ids = torch.tensor(tokenizer(choices).input_ids).squeeze(-1)\n",
    "\n",
    "choice_arr"
   ]
  },
  {
   "cell_type": "markdown",
   "id": "182c2429",
   "metadata": {},
   "source": [
    "## With normal generate\n",
    "\n",
    "fails with low probmass"
   ]
  },
  {
   "cell_type": "code",
   "execution_count": null,
   "id": "3570cbd4",
   "metadata": {},
   "outputs": [
    {
     "data": {
      "text/plain": [
       "Qwen3ForCausalLM(\n",
       "  (model): Qwen3Model(\n",
       "    (embed_tokens): Embedding(151936, 4096, padding_idx=151654)\n",
       "    (layers): ModuleList(\n",
       "      (0-35): 36 x Qwen3DecoderLayer(\n",
       "        (self_attn): Qwen3Attention(\n",
       "          (q_proj): Linear4bit(in_features=4096, out_features=4096, bias=False)\n",
       "          (k_proj): Linear4bit(in_features=4096, out_features=1024, bias=False)\n",
       "          (v_proj): Linear4bit(in_features=4096, out_features=1024, bias=False)\n",
       "          (o_proj): Linear4bit(in_features=4096, out_features=4096, bias=False)\n",
       "          (q_norm): Qwen3RMSNorm((128,), eps=1e-06)\n",
       "          (k_norm): Qwen3RMSNorm((128,), eps=1e-06)\n",
       "        )\n",
       "        (mlp): Qwen3MLP(\n",
       "          (gate_proj): Linear4bit(in_features=4096, out_features=12288, bias=False)\n",
       "          (up_proj): Linear4bit(in_features=4096, out_features=12288, bias=False)\n",
       "          (down_proj): Linear4bit(in_features=12288, out_features=4096, bias=False)\n",
       "          (act_fn): SiLU()\n",
       "        )\n",
       "        (input_layernorm): Qwen3RMSNorm((4096,), eps=1e-06)\n",
       "        (post_attention_layernorm): Qwen3RMSNorm((4096,), eps=1e-06)\n",
       "      )\n",
       "    )\n",
       "    (norm): Qwen3RMSNorm((4096,), eps=1e-06)\n",
       "    (rotary_emb): Qwen3RotaryEmbedding()\n",
       "  )\n",
       "  (lm_head): Linear(in_features=4096, out_features=151936, bias=False)\n",
       ")"
      ]
     },
     "execution_count": 6,
     "metadata": {},
     "output_type": "execute_result"
    }
   ],
   "source": [
    "inputs = tokenizer.apply_chat_template(messages, add_generation_prompt=True, as_tensor=True, enable_thinking=True)\n",
    "inputs = torch.tensor(inputs)[None].to(device)\n",
    "\n",
    "model.eval()"
   ]
  },
  {
   "cell_type": "code",
   "execution_count": null,
   "id": "e323eb54",
   "metadata": {},
   "outputs": [],
   "source": [
    "\n",
    "\n",
    "# model.eval()\n",
    "\n",
    "# with torch.no_grad():\n",
    "#     outputs = model.generate(\n",
    "#         inputs,\n",
    "#         max_new_tokens=350,\n",
    "#         return_dict_in_generate=True,\n",
    "#         # min_new_tokens=350,\n",
    "#         do_sample=False,\n",
    "#         # output_scores=True,\n",
    "#     output_logits=True,\n",
    "# )\n",
    "# outputs.scores"
   ]
  },
  {
   "cell_type": "code",
   "execution_count": null,
   "id": "25b9a634",
   "metadata": {},
   "outputs": [],
   "source": []
  },
  {
   "cell_type": "code",
   "execution_count": null,
   "id": "9e9ab08f",
   "metadata": {},
   "outputs": [],
   "source": [
    "# data = []\n",
    "# for logit in outputs.logits:\n",
    "#     logprobs = logit.log_softmax(dim=-1)\n",
    "#     new_token_id = logit.argmax(dim=-1)\n",
    "\n",
    "#     choice_probs = torch.tensor([logprobs[:, i].exp() for i in choice_ids])\n",
    "#     weights_norm = sum(choice_probs) / len(choice_probs)\n",
    "\n",
    "#     weighted_score = sum(weights_norm * torch.tensor([int(c) for c in choices]))\n",
    "\n",
    "#     token = tokenizer.decode(new_token_id)\n",
    "#     data.append(\n",
    "#         {\n",
    "#             \"weighted_score\": weighted_score.item(),\n",
    "#             # \"token_id\": token_id[0].item(),\n",
    "#             \"token\": token,\n",
    "#             \"probmass\": sum(choice_probs).item()\n",
    "#         }\n",
    "#     )\n",
    "\n",
    "\n",
    "# df = pd.DataFrame(data)\n",
    "\n",
    "# # make a 2.5 centered, probmass weighted score\n",
    "# s = df['weighted_score'] * df['probmass']\n",
    "# p = df['probmass'] \n",
    "# p = p/ p.sum()\n",
    "# s = s * p\n",
    "# s = (s - s.min())\n",
    "# s = s / s.max()\n",
    "# df['score'] = s\n",
    "# df"
   ]
  },
  {
   "cell_type": "code",
   "execution_count": null,
   "id": "6f1602d8",
   "metadata": {},
   "outputs": [],
   "source": []
  },
  {
   "cell_type": "code",
   "execution_count": null,
   "id": "7f6b50bc",
   "metadata": {},
   "outputs": [],
   "source": [
    "# # …existing code…\n",
    "\n",
    "\n",
    "# # pick a colormap and normalize your score range\n",
    "# cmap = colormaps.get_cmap('RdYlGn')\n",
    "# norm = colors.Normalize(vmin=min(df['score']), vmax=max(df['score']))\n",
    "# print(norm)\n",
    "\n",
    "\n",
    "# a = np.array([[0,1]])\n",
    "# pl.figure(figsize=(9, 1.5))\n",
    "# img = pl.imshow(a, cmap=cmap, norm=norm)\n",
    "# pl.gca().set_visible(False)\n",
    "# cax = pl.axes([0.1, 0.2, 0.8, 0.6])\n",
    "# pl.colorbar(orientation=\"horizontal\", cax=cax)\n",
    "\n",
    "# html = ''\n",
    "\n",
    "# for n,row in df.iterrows():\n",
    "#     token, score = row['token'], row['score']\n",
    "#     # map score → RGBA → hex\n",
    "#     if score > 0:\n",
    "#         hex_color = colors.to_hex(cmap(norm(score)))\n",
    "#         h = f'<span title=\"{score}\" style=\"color: {hex_color};\">{token}</span>'\n",
    "#         html += h\n",
    "#         # print(score, h)\n",
    "#     else:\n",
    "#         html += token\n",
    "\n",
    "# # render it inline\n",
    "# display(HTML(html))"
   ]
  },
  {
   "cell_type": "code",
   "execution_count": null,
   "id": "4e9b98c0",
   "metadata": {},
   "outputs": [],
   "source": [
    "# df.weighted_score.plot(logy=True)\n",
    "# df.probmass.plot()"
   ]
  },
  {
   "cell_type": "code",
   "execution_count": null,
   "id": "7de7f674",
   "metadata": {},
   "outputs": [],
   "source": [
    "# df.score.plot(logy=True)"
   ]
  },
  {
   "cell_type": "code",
   "execution_count": null,
   "id": "7b17f019",
   "metadata": {},
   "outputs": [],
   "source": [
    "# df.probmass.plot(logy=True)"
   ]
  },
  {
   "cell_type": "markdown",
   "id": "8071bb2e",
   "metadata": {},
   "source": [
    "## More complex version, with forcing and branching"
   ]
  },
  {
   "cell_type": "code",
   "execution_count": null,
   "id": "a25eb579",
   "metadata": {},
   "outputs": [
    {
     "data": {
      "application/vnd.jupyter.widget-view+json": {
       "model_id": "18bbcdf5a42c44f7af43806dd7cf3049",
       "version_major": 2,
       "version_minor": 0
      },
      "text/plain": [
       "  0%|          | 0/600 [00:00<?, ?it/s]"
      ]
     },
     "metadata": {},
     "output_type": "display_data"
    }
   ],
   "source": [
    "def clone_dynamic_cache(kv_cache):\n",
    "    c = kv_cache.to_legacy_cache()\n",
    "    c = ((a.clone(), b.clone()) for a, b in c)\n",
    "    c = tuple(c)\n",
    "    return DynamicCache.from_legacy_cache(c)\n",
    "\n",
    "@torch.no_grad()\n",
    "def force_rating(model, inputs, kv_cache):\n",
    "\n",
    "    kv_cache_clone = clone_dynamic_cache(kv_cache)\n",
    "\n",
    "    # modify inputs to force rating\n",
    "    s = \". May rating is <rating>\"\n",
    "    new_inputs = tokenizer.encode(s, return_tensors=\"pt\").to(inputs.device)\n",
    "    inputs = torch.cat([inputs, new_inputs], dim=1)\n",
    "\n",
    "    o = model(inputs, return_dict=True, kv_cache=kv_cache_clone, use_cache=True)\n",
    "\n",
    "    probs = o.logits[:, -1].softmax(dim=-1)\n",
    "    new_token = probs.argmax(dim=-1)\n",
    "    inputs = torch.cat([inputs, new_token.unsqueeze(0)], dim=1)\n",
    "\n",
    "    choice_probs = torch.tensor([probs[:, i] for i in choice_ids])\n",
    "    weight = choice_probs / choice_probs.sum()\n",
    "    score = sum(choice_arr * weight).item()\n",
    "\n",
    "    probmass = sum(choice_probs).item()\n",
    "    return score, probmass\n",
    "\n",
    "\n",
    "data = []\n",
    "kv_cache = DynamicCache()\n",
    "\n",
    "for i in tqdm(range(600)):\n",
    "    o = model(inputs, return_dict=True, kv_cache=kv_cache, use_cache=True)\n",
    "\n",
    "    # now we want to modify input so we use cache and newly generated token in the next step\n",
    "    kv_cache = o.past_key_values\n",
    "    logprobs = o.logits[:, -1].softmax(dim=-1)\n",
    "    new_token_id = logprobs.argmax(dim=-1)\n",
    "    inputs = torch.cat([inputs, new_token_id.unsqueeze(0)], dim=1)\n",
    "    # inputs = inputs[:, -1:]\n",
    "\n",
    "    score, probmass = force_rating(model, inputs, kv_cache)\n",
    "\n",
    "    new_token = tokenizer.decode(new_token_id)\n",
    "\n",
    "    data.append({\n",
    "        'token': new_token,\n",
    "        'score': score,\n",
    "        'probmass': probmass\n",
    "    })"
   ]
  },
  {
   "cell_type": "code",
   "execution_count": null,
   "id": "10b7c42a",
   "metadata": {},
   "outputs": [],
   "source": []
  },
  {
   "cell_type": "code",
   "execution_count": null,
   "id": "b0464d23",
   "metadata": {},
   "outputs": [],
   "source": [
    "df = pd.DataFrame(data)\n",
    "p = df['probmass']\n",
    "p = p / p.max()\n",
    "df['s'] = (df.score) * p / p.mean()# * 100\n",
    "\n",
    "def symlog(x):\n",
    "    return np.sign(x) * np.log1p(np.abs(x))\n",
    "\n",
    "df['s'] = symlog(df['s'])\n",
    "# df"
   ]
  },
  {
   "cell_type": "code",
   "execution_count": null,
   "id": "38b968e0",
   "metadata": {},
   "outputs": [],
   "source": [
    "# symlog(df['s'])"
   ]
  },
  {
   "cell_type": "code",
   "execution_count": null,
   "id": "47489eec",
   "metadata": {},
   "outputs": [
    {
     "data": {
      "text/html": [
       "<span title=\"-0.00018371036276221275\" style=\"color: #807f7f;\"><think></span><span title=\"-0.0005416274070739746\" style=\"color: #807f7f;\">\n",
       "</span><span title=\"-0.002018973231315613\" style=\"color: #827d7d;\">Okay</span><span title=\"-0.0020208731293678284\" style=\"color: #827d7d;\">,</span><span title=\"-0.0006336560472846031\" style=\"color: #807f7f;\"> let</span><span title=\"-0.001258552074432373\" style=\"color: #817e7e;\">'s</span><span title=\"-0.0061626434326171875\" style=\"color: #887777;\"> start</span><span title=\"-0.0027625244110822678\" style=\"color: #837c7c;\"> by</span><span title=\"-0.01815319061279297\" style=\"color: #986767;\"> understanding</span><span title=\"-0.027247354388237\" style=\"color: #a55a5a;\"> the</span><span title=\"-0.022893771529197693\" style=\"color: #9f6060;\"> task</span><span title=\"-0.015909824520349503\" style=\"color: #956a6a;\">.</span><span title=\"-0.06933170557022095\" style=\"color: #df2020;\"> The</span><span title=\"-0.016460716724395752\" style=\"color: #966969;\"> user</span><span title=\"-0.005355030298233032\" style=\"color: #877878;\"> wants</span><span title=\"-0.0037389881908893585\" style=\"color: #857a7a;\"> me</span><span title=\"-0.007325612008571625\" style=\"color: #8a7575;\"> to</span><span title=\"-0.007264077663421631\" style=\"color: #897676;\"> act</span><span title=\"-0.0034192167222499847\" style=\"color: #847b7b;\"> as</span><span title=\"-0.0033655017614364624\" style=\"color: #847b7b;\"> Jonathan</span><span title=\"-0.02054661512374878\" style=\"color: #9c6363;\"> H</span><span title=\"-0.008510872721672058\" style=\"color: #8b7474;\">aid</span><span title=\"-0.011354684829711914\" style=\"color: #8f7070;\">t</span><span title=\"-0.014459870755672455\" style=\"color: #936c6c;\"> and</span><span title=\"-0.020320862531661987\" style=\"color: #9b6464;\"> analyze</span><span title=\"-0.010192722082138062\" style=\"color: #8e7171;\"> the</span><span title=\"-0.016798943281173706\" style=\"color: #976868;\"> writer</span><span title=\"-0.011928360909223557\" style=\"color: #906f6f;\">'s</span><span title=\"-0.018675172701478004\" style=\"color: #996666;\"> moral</span><span title=\"-0.035993438214063644\" style=\"color: #b14e4e;\"> conviction</span><span title=\"-0.053049540147185326\" style=\"color: #c83737;\"> based</span><span title=\"-0.026782482862472534\" style=\"color: #a45b5b;\"> on</span><span title=\"-0.02413897216320038\" style=\"color: #a15e5e;\"> their</span><span title=\"-0.041454970836639404\" style=\"color: #b84747;\"> response</span><span title=\"-0.015072468668222427\" style=\"color: #946b6b;\"> to</span><span title=\"-0.030331730842590332\" style=\"color: #a95656;\"> a</span><span title=\"-0.02352713607251644\" style=\"color: #a05f5f;\"> Q</span><span title=\"-0.043549083173274994\" style=\"color: #bb4444;\">&A</span><span title=\"-0.025158662348985672\" style=\"color: #a25d5d;\">.</span><span title=\"-0.08854620158672333\" style=\"color: #f90606;\"> The</span><span title=\"-0.05676274746656418\" style=\"color: #cd3232;\"> specific</span><span title=\"-0.01831824705004692\" style=\"color: #996666;\"> question</span><span title=\"-0.009508123621344566\" style=\"color: #8d7272;\"> is</span><span title=\"-0.01813497208058834\" style=\"color: #986767;\"> about</span><span title=\"-0.03242054581642151\" style=\"color: #ac5353;\"> whether</span><span title=\"-0.01824432611465454\" style=\"color: #996666;\"> keeping</span><span title=\"-0.0129433274269104\" style=\"color: #916e6e;\"> a</span><span title=\"-0.027249515056610107\" style=\"color: #a55a5a;\"> found</span><span title=\"-0.030935341492295265\" style=\"color: #aa5555;\"> wallet</span><span title=\"-0.02115972340106964\" style=\"color: #9d6262;\"> with</span><span title=\"-0.026369692757725716\" style=\"color: #a45b5b;\"> money</span><span title=\"-0.027725085616111755\" style=\"color: #a65959;\"> is</span><span title=\"-0.03569718450307846\" style=\"color: #b14e4e;\"> morally</span><span title=\"-0.031829237937927246\" style=\"color: #ab5454;\"> acceptable</span><span title=\"-0.03932251036167145\" style=\"color: #b64949;\">.</span><span title=\"-0.08670017123222351\" style=\"color: #f70808;\"> The</span><span title=\"-0.021793484687805176\" style=\"color: #9d6262;\"> writer</span><span title=\"-0.011722862720489502\" style=\"color: #906f6f;\">'s</span><span title=\"-0.022865019738674164\" style=\"color: #9f6060;\"> answer</span><span title=\"-0.01636013388633728\" style=\"color: #966969;\"> is</span><span title=\"-0.00575275719165802\" style=\"color: #877878;\">:</span><span title=\"-0.00022169435396790504\" style=\"color: #807f7f;\"> \"</span><span title=\"-0.0021279333159327507\" style=\"color: #827d7d;\">Sure</span><span title=\"-0.001997457817196846\" style=\"color: #827d7d;\">!</span><span title=\"-7.131954771466553e-05\" style=\"color: #807f7f;\"> if</span><span title=\"-9.512947872281075e-05\" style=\"color: #807f7f;\"> they</span><span title=\"-0.00014905817806720734\" style=\"color: #807f7f;\"> need</span><span title=\"-0.00010297237895429134\" style=\"color: #807f7f;\"> the</span><span title=\"-1.824251376092434e-05\" style=\"color: #807f7f;\"> mon</span><span title=\"-0.0012350594624876976\" style=\"color: #817e7e;\">ies</span><span title=\"-0.0006062011234462261\" style=\"color: #807f7f;\"> then</span><span title=\"-7.529277354478836e-05\" style=\"color: #807f7f;\"> they</span><span title=\"-0.0007665827870368958\" style=\"color: #817e7e;\"> should</span><span title=\"-0.00012506498023867607\" style=\"color: #807f7f;\">.</span><span title=\"-1.3263430446386337e-05\" style=\"color: #807f7f;\"> but</span><span title=\"-4.760397132486105e-05\" style=\"color: #807f7f;\"> if</span><span title=\"-9.133061394095421e-05\" style=\"color: #807f7f;\"> they</span><span title=\"-1.5183468349277973e-06\" style=\"color: #807f7f;\"> have</span><span title=\"2.5438377633690834e-05\" style=\"color: #7f807f;\"> lots</span><span title=\"8.744420483708382e-06\" style=\"color: #7f807f;\"> of</span><span title=\"2.791173756122589e-05\" style=\"color: #7f807f;\"> money</span><span title=\"7.608177838847041e-05\" style=\"color: #7f807f;\"> then</span><span title=\"5.3995754569768906e-05\" style=\"color: #7f807f;\"> it</span><span title=\"1.3049721019342542e-05\" style=\"color: #7f807f;\">'s</span><span title=\"3.2725161872804165e-05\" style=\"color: #7f807f;\"> immoral</span><span title=\"-0.016854465007781982\" style=\"color: #976868;\">.\"\n",
       "\n",
       "</span><span title=\"-0.02677944302558899\" style=\"color: #a45b5b;\">First</span><span title=\"-0.027102932333946228\" style=\"color: #a55a5a;\">,</span><span title=\"-0.04764080047607422\" style=\"color: #c13e3e;\"> I</span><span title=\"-0.013016894459724426\" style=\"color: #916e6e;\"> need</span><span title=\"-0.022080689668655396\" style=\"color: #9e6161;\"> to</span><span title=\"-0.025562383234500885\" style=\"color: #a35c5c;\"> rate</span><span title=\"-0.03249604254961014\" style=\"color: #ac5353;\"> the</span><span title=\"-0.025988057255744934\" style=\"color: #a35c5c;\"> strength</span><span title=\"-0.009519342333078384\" style=\"color: #8d7272;\"> of</span><span title=\"-0.0207282155752182\" style=\"color: #9c6363;\"> moral</span><span title=\"-0.03204161860048771\" style=\"color: #ac5353;\"> conviction</span><span title=\"-0.04260224103927612\" style=\"color: #ba4545;\"> on</span><span title=\"-0.059992700815200806\" style=\"color: #d22d2d;\"> a</span><span title=\"-0.0164911150932312\" style=\"color: #966969;\"> scale</span><span title=\"-0.014357149600982666\" style=\"color: #936c6c;\"> from</span><span title=\"-0.005198221653699875\" style=\"color: #877878;\"> </span><span title=\"-0.0025137662887573242\" style=\"color: #837c7c;\">1</span><span title=\"-0.003137536346912384\" style=\"color: #847b7b;\"> to</span><span title=\"-0.0011446140706539154\" style=\"color: #817e7e;\"> </span><span title=\"0.0019306540489196777\" style=\"color: #7d807d;\">5</span><span title=\"0.007322430610656738\" style=\"color: #758075;\">.</span><span title=\"-0.06650086492300034\" style=\"color: #db2424;\"> The</span><span title=\"-0.006007812917232513\" style=\"color: #887777;\"> key</span><span title=\"-0.0016050338745117188\" style=\"color: #827d7d;\"> here</span><span title=\"-0.005900084972381592\" style=\"color: #887777;\"> is</span><span title=\"0.000377655029296875\" style=\"color: #7f807f;\"> to</span><span title=\"-0.0038692206144332886\" style=\"color: #857a7a;\"> look</span><span title=\"-0.002211332321166992\" style=\"color: #837c7c;\"> at</span><span title=\"-0.017435669898986816\" style=\"color: #976868;\"> the</span><span title=\"-0.007287189364433289\" style=\"color: #8a7575;\"> choices</span><span title=\"-0.016598939895629883\" style=\"color: #966969;\"> the</span><span title=\"-0.004574716091156006\" style=\"color: #867979;\"> writer</span><span title=\"-0.0015107542276382446\" style=\"color: #827d7d;\"> made</span><span title=\"-0.0021251142024993896\" style=\"color: #827d7d;\">,</span><span title=\"-0.0010582655668258667\" style=\"color: #817e7e;\"> not</span><span title=\"-0.005984395742416382\" style=\"color: #887777;\"> just</span><span title=\"-0.011349231004714966\" style=\"color: #8f7070;\"> the</span><span title=\"-0.00788193941116333\" style=\"color: #8a7575;\"> words</span><span title=\"-0.005842864513397217\" style=\"color: #887777;\">.</span><span title=\"-0.060062408447265625\" style=\"color: #d22d2d;\"> The</span><span title=\"-0.0011464059352874756\" style=\"color: #817e7e;\"> answer</span><span title=\"0.0021432340145111084\" style=\"color: #7d807d;\"> seems</span><span title=\"0.0019617080688476562\" style=\"color: #7d807d;\"> to</span><span title=\"-0.0016053617000579834\" style=\"color: #827d7d;\"> have</span><span title=\"-0.010611563920974731\" style=\"color: #8e7171;\"> two</span><span title=\"-0.021014660596847534\" style=\"color: #9c6363;\"> parts</span><span title=\"-0.007198497653007507\" style=\"color: #897676;\">:</span><span title=\"-0.013793110847473145\" style=\"color: #926d6d;\"> if</span><span title=\"-0.004333794116973877\" style=\"color: #857a7a;\"> the</span><span title=\"-0.007011741399765015\" style=\"color: #897676;\"> person</span><span title=\"0.004383862018585205\" style=\"color: #798079;\"> needs</span><span title=\"0.005438774824142456\" style=\"color: #788078;\"> the</span><span title=\"0.008311361074447632\" style=\"color: #748074;\"> money</span><span title=\"0.003973931074142456\" style=\"color: #7a807a;\">,</span><span title=\"0.021936073899269104\" style=\"color: #618061;\"> it</span><span title=\"0.005356878042221069\" style=\"color: #788078;\">'s</span><span title=\"-0.0013739466667175293\" style=\"color: #817e7e;\"> acceptable</span><span title=\"0.002674199640750885\" style=\"color: #7c807c;\">;</span><span title=\"0.002681352198123932\" style=\"color: #7c807c;\"> if</span><span title=\"0.003094494342803955\" style=\"color: #7b807b;\"> they</span><span title=\"0.05268573760986328\" style=\"color: #378037;\"> have</span><span title=\"-0.0026835501194000244\" style=\"color: #837c7c;\"> lots</span><span title=\"0.00560683012008667\" style=\"color: #788078;\">,</span><span title=\"0.01374363899230957\" style=\"color: #6d806d;\"> it</span><span title=\"0.007535666227340698\" style=\"color: #758075;\">'s</span><span title=\"-0.0026001930236816406\" style=\"color: #837c7c;\"> immoral</span><span title=\"-0.004246830940246582\" style=\"color: #857a7a;\">.</span><span title=\"-0.003760993480682373\" style=\"color: #857a7a;\"> \n",
       "\n",
       "</span><span title=\"-0.004965052008628845\" style=\"color: #867979;\">So</span><span title=\"-0.002077817916870117\" style=\"color: #827d7d;\">,</span><span title=\"-0.00941455364227295\" style=\"color: #8c7373;\"> the</span><span title=\"-0.004030019044876099\" style=\"color: #857a7a;\"> writer</span><span title=\"-0.005019783973693848\" style=\"color: #867979;\"> is</span><span title=\"-0.0016417354345321655\" style=\"color: #827d7d;\"> not</span><span title=\"-0.01105886697769165\" style=\"color: #8f7070;\"> taking</span><span title=\"-0.013686418533325195\" style=\"color: #926d6d;\"> a</span><span title=\"-0.013169944286346436\" style=\"color: #926d6d;\"> strict</span><span title=\"-0.009408071637153625\" style=\"color: #8c7373;\"> stance</span><span title=\"-0.006817281246185303\" style=\"color: #897676;\">.</span><span title=\"-0.005762875080108643\" style=\"color: #877878;\"> They</span><span title=\"-0.0054759979248046875\" style=\"color: #877878;\">'re</span><span title=\"-0.00780448317527771\" style=\"color: #8a7575;\"> conditional</span><span title=\"-0.009960457682609558\" style=\"color: #8d7272;\">.</span><span title=\"-0.02169191837310791\" style=\"color: #9d6262;\"> The</span><span title=\"-0.08841800689697266\" style=\"color: #f90606;\"> first</span><span title=\"-0.0536329448223114\" style=\"color: #c93636;\"> part</span><span title=\"-0.016302824020385742\" style=\"color: #966969;\"> allows</span><span title=\"-0.016171932220458984\" style=\"color: #966969;\"> for</span><span title=\"-0.031418800354003906\" style=\"color: #ab5454;\"> a</span><span title=\"-0.049193501472473145\" style=\"color: #c33c3c;\"> morally</span><span title=\"-0.02355426549911499\" style=\"color: #a05f5f;\"> neutral</span><span title=\"-0.0132942795753479\" style=\"color: #926d6d;\"> or</span><span title=\"-0.024564743041992188\" style=\"color: #a15e5e;\"> even</span><span title=\"-0.02372872829437256\" style=\"color: #a05f5f;\"> acceptable</span><span title=\"-0.035273194313049316\" style=\"color: #b04f4f;\"> action</span><span title=\"-0.011606991291046143\" style=\"color: #8f7070;\"> if</span><span title=\"-0.002964198589324951\" style=\"color: #847b7b;\"> the</span><span title=\"-0.004889965057373047\" style=\"color: #867979;\"> person</span><span title=\"-0.020408213138580322\" style=\"color: #9c6363;\"> has</span><span title=\"-0.018017351627349854\" style=\"color: #986767;\"> a</span><span title=\"-0.025141596794128418\" style=\"color: #a25d5d;\"> need</span><span title=\"-0.016993671655654907\" style=\"color: #976868;\">.</span><span title=\"-0.012066125869750977\" style=\"color: #906f6f;\"> The</span><span title=\"0.013993978500366211\" style=\"color: #6c806c;\"> second</span><span title=\"0.014341950416564941\" style=\"color: #6c806c;\"> part</span><span title=\"0.029521942138671875\" style=\"color: #578057;\"> introduces</span><span title=\"-0.0011576414108276367\" style=\"color: #817e7e;\"> a</span><span title=\"0.039806246757507324\" style=\"color: #498049;\"> moral</span><span title=\"0.010940179228782654\" style=\"color: #708070;\"> judgment</span><span title=\"0.0032963305711746216\" style=\"color: #7b807b;\"> based</span><span title=\"0.0363004207611084\" style=\"color: #4e804e;\"> on</span><span title=\"0.010334014892578125\" style=\"color: #718071;\"> the</span><span title=\"0.01569652557373047\" style=\"color: #6a806a;\"> person</span><span title=\"0.0176466703414917\" style=\"color: #678067;\">'s</span><span title=\"0.008107632398605347\" style=\"color: #748074;\"> financial</span><span title=\"0.003032684326171875\" style=\"color: #7b807b;\"> status</span><span title=\"0.0015386193990707397\" style=\"color: #7d807d;\">.</span><span title=\"0.0002675950527191162\" style=\"color: #7f807f;\"> This</span><span title=\"-0.0019030272960662842\" style=\"color: #827d7d;\"> suggests</span><span title=\"-3.94284725189209e-05\" style=\"color: #807f7f;\"> that</span><span title=\"-0.007026240229606628\" style=\"color: #897676;\"> the</span><span title=\"-0.003271624445915222\" style=\"color: #847b7b;\"> writer</span><span title=\"-0.003575459122657776\" style=\"color: #847b7b;\">'s</span><span title=\"0.0011619627475738525\" style=\"color: #7e807e;\"> moral</span><span title=\"0.003922462463378906\" style=\"color: #7a807a;\"> judgment</span><span title=\"0.0022530555725097656\" style=\"color: #7c807c;\"> is</span><span title=\"-0.0011900067329406738\" style=\"color: #817e7e;\"> situ</span><span title=\"-0.004588723182678223\" style=\"color: #867979;\">ational</span><span title=\"-0.0030803382396698\" style=\"color: #847b7b;\">.</span><span title=\"-0.003807656466960907\" style=\"color: #857a7a;\"> They</span><span title=\"-0.004555344581604004\" style=\"color: #867979;\"> don</span><span title=\"0.006265744566917419\" style=\"color: #778077;\">'t</span><span title=\"0.00062522292137146\" style=\"color: #7f807f;\"> outright</span><span title=\"-0.00442996621131897\" style=\"color: #867979;\"> condemn</span><span title=\"-0.0019494295120239258\" style=\"color: #827d7d;\"> the</span><span title=\"-0.006224602460861206\" style=\"color: #887777;\"> action</span><span title=\"0.00022715330123901367\" style=\"color: #7f807f;\"> but</span><span title=\"-0.004071906208992004\" style=\"color: #857a7a;\"> make</span><span title=\"-0.00018864870071411133\" style=\"color: #807f7f;\"> it</span><span title=\"-0.003677874803543091\" style=\"color: #857a7a;\"> dependent</span><span title=\"-0.0025159120559692383\" style=\"color: #837c7c;\"> on</span><span title=\"-0.004521757364273071\" style=\"color: #867979;\"> circumstances</span><span title=\"-0.0029089972376823425\" style=\"color: #837c7c;\">.\n",
       "\n",
       "</span><span title=\"-0.01607567071914673\" style=\"color: #966969;\">H</span><span title=\"-0.006673723459243774\" style=\"color: #897676;\">aid</span><span title=\"-0.0009282231330871582\" style=\"color: #817e7e;\">t</span><span title=\"-0.0038070380687713623\" style=\"color: #857a7a;\">'s</span><span title=\"-0.0031714290380477905\" style=\"color: #847b7b;\"> framework</span><span title=\"-0.008085966110229492\" style=\"color: #8b7474;\"> includes</span><span title=\"-0.008201122283935547\" style=\"color: #8b7474;\"> moral</span><span title=\"-0.014420568943023682\" style=\"color: #936c6c;\"> foundations</span><span title=\"-0.00556182861328125\" style=\"color: #877878;\"> like</span><span title=\"-0.008311271667480469\" style=\"color: #8b7474;\"> care</span><span title=\"-0.015415072441101074\" style=\"color: #956a6a;\">,</span><span title=\"-0.0076958537101745605\" style=\"color: #8a7575;\"> fairness</span><span title=\"-0.014979362487792969\" style=\"color: #946b6b;\">,</span><span title=\"-0.006577104330062866\" style=\"color: #897676;\"> loyalty</span><span title=\"-0.005960226058959961\" style=\"color: #887777;\">,</span><span title=\"-0.006152987480163574\" style=\"color: #887777;\"> authority</span><span title=\"-0.007887303829193115\" style=\"color: #8a7575;\">,</span><span title=\"-0.005688458681106567\" style=\"color: #877878;\"> and</span><span title=\"-0.004314035177230835\" style=\"color: #857a7a;\"> purity</span><span title=\"-0.007336676120758057\" style=\"color: #8a7575;\">.</span><span title=\"-0.015481770038604736\" style=\"color: #956a6a;\"> The</span><span title=\"-0.004351615905761719\" style=\"color: #857a7a;\"> writer</span><span title=\"-0.00447314977645874\" style=\"color: #867979;\">'s</span><span title=\"-0.0009231269359588623\" style=\"color: #817e7e;\"> answer</span><span title=\"-0.005764216184616089\" style=\"color: #877878;\"> seems</span><span title=\"-0.008641630411148071\" style=\"color: #8b7474;\"> to</span><span title=\"-0.012209951877593994\" style=\"color: #906f6f;\"> prioritize</span><span title=\"-0.022574782371520996\" style=\"color: #9f6060;\"> care</span><span title=\"-0.010241925716400146\" style=\"color: #8e7171;\"> (</span><span title=\"-0.00760197639465332\" style=\"color: #8a7575;\">needs</span><span title=\"-0.009681642055511475\" style=\"color: #8d7272;\">)</span><span title=\"-0.012646913528442383\" style=\"color: #916e6e;\"> and</span><span title=\"-0.007895350456237793\" style=\"color: #8a7575;\"> maybe</span><span title=\"-0.009909510612487793\" style=\"color: #8d7272;\"> fairness</span><span title=\"-0.004688382148742676\" style=\"color: #867979;\"> (</span><span title=\"0.0008234977722167969\" style=\"color: #7e807e;\">if</span><span title=\"-0.004159867763519287\" style=\"color: #857a7a;\"> the</span><span title=\"-0.00723642110824585\" style=\"color: #897676;\"> person</span><span title=\"-0.0015721321105957031\" style=\"color: #827d7d;\"> is</span><span title=\"-0.0038831233978271484\" style=\"color: #857a7a;\"> in</span><span title=\"0.003630995750427246\" style=\"color: #7b807b;\"> need</span><span title=\"-0.008325666189193726\" style=\"color: #8b7474;\">).</span><span title=\"-0.009144306182861328\" style=\"color: #8c7373;\"> However</span><span title=\"-0.015549898147583008\" style=\"color: #956a6a;\">,</span><span title=\"-0.019643545150756836\" style=\"color: #9a6565;\"> the</span><span title=\"-0.008665502071380615\" style=\"color: #8b7474;\"> conditional</span><span title=\"-0.005093127489089966\" style=\"color: #867979;\"> nature</span><span title=\"-0.0136680006980896\" style=\"color: #926d6d;\"> of</span><span title=\"-0.020012974739074707\" style=\"color: #9b6464;\"> the</span><span title=\"-0.006560683250427246\" style=\"color: #897676;\"> answer</span><span title=\"-0.007927417755126953\" style=\"color: #8a7575;\"> might</span><span title=\"-0.0058193206787109375\" style=\"color: #877878;\"> indicate</span><span title=\"-0.008810937404632568\" style=\"color: #8c7373;\"> a</span><span title=\"-0.012979596853256226\" style=\"color: #916e6e;\"> more</span><span title=\"-0.01583695411682129\" style=\"color: #956a6a;\"> situ</span><span title=\"-0.008898496627807617\" style=\"color: #8c7373;\">ational</span><span title=\"-0.008131265640258789\" style=\"color: #8b7474;\"> morality</span><span title=\"-0.00937730073928833\" style=\"color: #8c7373;\"> rather</span><span title=\"-0.006790459156036377\" style=\"color: #897676;\"> than</span><span title=\"-0.010553687810897827\" style=\"color: #8e7171;\"> a</span><span title=\"-0.009625494480133057\" style=\"color: #8d7272;\"> strict</span><span title=\"-0.007458776235580444\" style=\"color: #8a7575;\"> moral</span><span title=\"-0.008716791868209839\" style=\"color: #8b7474;\"> conviction</span><span title=\"-0.007510066032409668\" style=\"color: #8a7575;\">.</span><span title=\"-0.003406226634979248\" style=\"color: #847b7b;\"> \n",
       "\n",
       "</span><span title=\"-0.014644026756286621\" style=\"color: #946b6b;\">The</span><span title=\"-0.0039043426513671875\" style=\"color: #857a7a;\"> writer</span><span title=\"-0.008416175842285156\" style=\"color: #8b7474;\"> doesn</span><span title=\"-0.001325845718383789\" style=\"color: #817e7e;\">'t</span><span title=\"-0.0020772963762283325\" style=\"color: #827d7d;\"> strongly</span><span title=\"-0.0274200439453125\" style=\"color: #a55a5a;\"> oppose</span><span title=\"-0.008190631866455078\" style=\"color: #8b7474;\"> the</span><span title=\"-0.023487210273742676\" style=\"color: #a05f5f;\"> action</span><span title=\"-0.006679058074951172\" style=\"color: #897676;\">,</span><span title=\"0.000695347785949707\" style=\"color: #7f807f;\"> nor</span><span title=\"-0.001656264066696167\" style=\"color: #827d7d;\"> do</span><span title=\"-0.0018758028745651245\" style=\"color: #827d7d;\"> they</span><span title=\"-0.0007013380527496338\" style=\"color: #807f7f;\"> strongly</span><span title=\"-0.0033576786518096924\" style=\"color: #847b7b;\"> support</span><span title=\"-0.004239082336425781\" style=\"color: #857a7a;\"> it</span><span title=\"-0.003881692886352539\" style=\"color: #857a7a;\">.</span><span title=\"-0.004234045743942261\" style=\"color: #857a7a;\"> Instead</span><span title=\"-0.009857118129730225\" style=\"color: #8d7272;\">,</span><span title=\"-0.006394773721694946\" style=\"color: #887777;\"> they</span><span title=\"-0.0049256980419158936\" style=\"color: #867979;\"> present</span><span title=\"-0.0033657997846603394\" style=\"color: #847b7b;\"> a</span><span title=\"-0.006031632423400879\" style=\"color: #887777;\"> conditional</span><span title=\"-0.005580902099609375\" style=\"color: #877878;\"> judgment</span><span title=\"-0.004872322082519531\" style=\"color: #867979;\">.</span><span title=\"-0.005360797047615051\" style=\"color: #877878;\"> This</span><span title=\"-0.005149543285369873\" style=\"color: #877878;\"> suggests</span><span title=\"-0.0051419734954833984\" style=\"color: #877878;\"> a</span><span title=\"-0.0055655837059021\" style=\"color: #877878;\"> moral</span><span title=\"-0.003775380551815033\" style=\"color: #857a7a;\"> indifference</span><span title=\"-0.003611445426940918\" style=\"color: #847b7b;\"> or</span><span title=\"-0.0032711029052734375\" style=\"color: #847b7b;\"> neutrality</span><span title=\"-0.002915024757385254\" style=\"color: #847b7b;\">,</span><span title=\"-0.002865973860025406\" style=\"color: #837c7c;\"> as</span><span title=\"-0.00437367707490921\" style=\"color: #867979;\"> the</span><span title=\"-0.003341391682624817\" style=\"color: #847b7b;\"> answer</span><span title=\"-0.003299117088317871\" style=\"color: #847b7b;\"> depends</span><span title=\"-0.003063775599002838\" style=\"color: #847b7b;\"> on</span><span title=\"-0.005494728684425354\" style=\"color: #877878;\"> the</span><span title=\"-0.003907009959220886\" style=\"color: #857a7a;\"> individual</span><span title=\"-0.003421783447265625\" style=\"color: #847b7b;\">'s</span><span title=\"-0.003223419189453125\" style=\"color: #847b7b;\"> circumstances</span><span title=\"-0.003910750150680542\" style=\"color: #857a7a;\">.</span><span title=\"-0.0037571266293525696\" style=\"color: #857a7a;\"> The</span><span title=\"-0.006353527307510376\" style=\"color: #887777;\"> use</span><span title=\"-0.008432060480117798\" style=\"color: #8b7474;\"> of</span><span title=\"-0.00015044398605823517\" style=\"color: #807f7f;\"> \"</span><span title=\"-0.00010567507706582546\" style=\"color: #807f7f;\">if</span><span title=\"-0.003395676612854004\" style=\"color: #847b7b;\">\"</span><span title=\"-0.0035408511757850647\" style=\"color: #847b7b;\"> statements</span><span title=\"-0.0032286643981933594\" style=\"color: #847b7b;\"> shows</span><span title=\"-0.003724321722984314\" style=\"color: #857a7a;\"> that</span><span title=\"-0.007903560996055603\" style=\"color: #8a7575;\"> the</span><span title=\"-0.003819577395915985\" style=\"color: #857a7a;\"> writer</span><span title=\"-0.004322119057178497\" style=\"color: #857a7a;\">'s</span><span title=\"-0.0028406381607055664\" style=\"color: #837c7c;\"> moral</span><span title=\"-0.004300624132156372\" style=\"color: #857a7a;\"> stance</span><span title=\"-0.0035087168216705322\" style=\"color: #847b7b;\"> is</span><span title=\"-0.004614651203155518\" style=\"color: #867979;\"> flexible</span><span title=\"-0.004930347204208374\" style=\"color: #867979;\">,</span><span title=\"-0.004004091024398804\" style=\"color: #857a7a;\"> not</span><span title=\"-0.004093393683433533\" style=\"color: #857a7a;\"> absolute</span><span title=\"-0.005497276782989502\" style=\"color: #877878;\">.</span><span title=\"-0.0037550926208496094\" style=\"color: #857a7a;\"> \n",
       "\n",
       "</span><span title=\"-0.003946155309677124\" style=\"color: #857a7a;\">Therefore</span><span title=\"-0.003382742404937744\" style=\"color: #847b7b;\">,</span><span title=\"-0.003986690193414688\" style=\"color: #857a7a;\"> the</span><span title=\"-0.002579301595687866\" style=\"color: #837c7c;\"> strength</span><span title=\"-0.002888500690460205\" style=\"color: #837c7c;\"> of</span><span title=\"-0.0031425952911376953\" style=\"color: #847b7b;\"> moral</span><span title=\"-0.0027211010456085205\" style=\"color: #837c7c;\"> conviction</span><span title=\"-0.0026537179946899414\" style=\"color: #837c7c;\"> here</span><span title=\"-0.0014951825141906738\" style=\"color: #827d7d;\"> is</span><span title=\"-0.0025871992111206055\" style=\"color: #837c7c;\"> not</span><span title=\"-0.004928715527057648\" style=\"color: #867979;\"> strong</span><span title=\"-0.004191979765892029\" style=\"color: #857a7a;\">.</span><span title=\"-0.005138218402862549\" style=\"color: #877878;\"> The</span><span title=\"-0.004225745797157288\" style=\"color: #857a7a;\"> writer</span><span title=\"-0.0052681565284729\" style=\"color: #877878;\"> isn</span><span title=\"-0.0038822367787361145\" style=\"color: #857a7a;\">'t</span><span title=\"-0.003754541277885437\" style=\"color: #857a7a;\"> taking</span><span title=\"-0.006686687469482422\" style=\"color: #897676;\"> a</span><span title=\"-0.003933429718017578\" style=\"color: #857a7a;\"> firm</span><span title=\"-0.004118625074625015\" style=\"color: #857a7a;\"> position</span><span title=\"-0.002697184681892395\" style=\"color: #837c7c;\"> but</span><span title=\"-0.0030271410942077637\" style=\"color: #847b7b;\"> is</span><span title=\"-0.0029547102749347687\" style=\"color: #847b7b;\"> instead</span><span title=\"-0.003014400601387024\" style=\"color: #847b7b;\"> applying</span><span title=\"-0.003970541059970856\" style=\"color: #857a7a;\"> different</span><span title=\"-0.004313215613365173\" style=\"color: #857a7a;\"> moral</span><span title=\"-0.005629923194646835\" style=\"color: #877878;\"> standards</span><span title=\"-0.00482487678527832\" style=\"color: #867979;\"> based</span><span title=\"-0.003736451268196106\" style=\"color: #857a7a;\"> on</span><span title=\"-0.0049901604652404785\" style=\"color: #867979;\"> context</span><span title=\"-0.005487937480211258\" style=\"color: #877878;\">.</span><span title=\"-0.004389747977256775\" style=\"color: #867979;\"> This</span><span title=\"-0.006242372095584869\" style=\"color: #887777;\"> align</span><span title=\"-0.004414815455675125\" style=\"color: #867979;\">s</span><span title=\"-0.004868417978286743\" style=\"color: #867979;\"> more</span><span title=\"-0.005553029477596283\" style=\"color: #877878;\"> with</span><span title=\"-0.0060248300433158875\" style=\"color: #887777;\"> a</span><span title=\"-0.0055768489837646484\" style=\"color: #877878;\"> morally</span><span title=\"-0.004330594092607498\" style=\"color: #857a7a;\"> indifferent</span><span title=\"-0.006111636757850647\" style=\"color: #887777;\"> or</span><span title=\"-0.004678055644035339\" style=\"color: #867979;\"> neutral</span><span title=\"-0.004073029384016991\" style=\"color: #857a7a;\"> stance</span><span title=\"-0.003941439092159271\" style=\"color: #857a7a;\">,</span><span title=\"-0.004553385078907013\" style=\"color: #867979;\"> as</span><span title=\"-0.007417481392621994\" style=\"color: #8a7575;\"> the</span><span title=\"-0.0034658946096897125\" style=\"color: #847b7b;\"> answer</span><span title=\"-0.005109816789627075\" style=\"color: #877878;\"> doesn</span><span title=\"-0.0034608542919158936\" style=\"color: #847b7b;\">'t</span><span title=\"-0.0045507922768592834\" style=\"color: #867979;\"> show</span><span title=\"-0.006895989179611206\" style=\"color: #897676;\"> a</span><span title=\"-0.006119966506958008\" style=\"color: #887777;\"> clear</span><span title=\"-0.006161496043205261\" style=\"color: #887777;\">,</span><span title=\"-0.004156731069087982\" style=\"color: #857a7a;\"> strong</span><span title=\"-0.0034753531217575073\" style=\"color: #847b7b;\"> moral</span><span title=\"-0.004012651741504669\" style=\"color: #857a7a;\"> conviction</span><span title=\"-0.004048727452754974\" style=\"color: #857a7a;\"> either</span><span title=\"-0.0031309500336647034\" style=\"color: #847b7b;\"> way</span><span title=\"-0.0034743323922157288\" style=\"color: #847b7b;\">.</span><span title=\"-0.003995225764811039\" style=\"color: #857a7a;\"> The</span><span title=\"-0.0036404579877853394\" style=\"color: #857a7a;\"> conditional</span><span title=\"-0.003121785819530487\" style=\"color: #847b7b;\"> nature</span><span title=\"-0.004392310976982117\" style=\"color: #867979;\"> of</span><span title=\"-0.006406702101230621\" style=\"color: #887777;\"> the</span><span title=\"-0.003464590758085251\" style=\"color: #847b7b;\"> response</span><span title=\"-0.0027868151664733887\" style=\"color: #837c7c;\"> indicates</span><span title=\"-0.0035355575382709503\" style=\"color: #847b7b;\"> that</span><span title=\"-0.003938466310501099\" style=\"color: #857a7a;\"> the</span><span title=\"-0.002775084227323532\" style=\"color: #837c7c;\"> writer</span><span title=\"-0.003970280289649963\" style=\"color: #857a7a;\">'s</span><span title=\"-0.003491230309009552\" style=\"color: #847b7b;\"> values</span><span title=\"-0.0034053102135658264\" style=\"color: #847b7b;\"> are</span><span title=\"-0.0038883984088897705\" style=\"color: #857a7a;\"> situ</span><span title=\"-0.003999900072813034\" style=\"color: #857a7a;\">ational</span><span title=\"-0.003991909325122833\" style=\"color: #857a7a;\">,</span><span title=\"-0.0032859444618225098\" style=\"color: #847b7b;\"> not</span><span title=\"-0.004055038094520569\" style=\"color: #857a7a;\"> absolute</span><span title=\"-0.004058662801980972\" style=\"color: #857a7a;\">,</span><span title=\"-0.003200031816959381\" style=\"color: #847b7b;\"> which</span><span title=\"-0.002799220383167267\" style=\"color: #837c7c;\"> would</span><span title=\"-0.003058783710002899\" style=\"color: #847b7b;\"> rate</span><span title=\"-0.012287221848964691\" style=\"color: #906f6f;\"> lower</span><span title=\"-0.008055008947849274\" style=\"color: #8b7474;\"> on</span><span title=\"-0.014325276017189026\" style=\"color: #936c6c;\"> the</span><span title=\"-0.012225508689880371\" style=\"color: #906f6f;\"> conviction</span><span title=\"-0.01212158054113388\" style=\"color: #906f6f;\"> scale</span><span title=\"-0.02153927832841873\" style=\"color: #9d6262;\">.\n",
       "</span><span title=\"-0.06847455725073814\" style=\"color: #de2121;\"></think></span><span title=\"-0.04889112710952759\" style=\"color: #c33c3c;\">\n",
       "\n",
       "</span><span title=\"-0.09318727254867554\" style=\"color: #ff0000;\">The</span><span title=\"-0.08270284160971642\" style=\"color: #f10e0e;\"> writer</span><span title=\"-0.08150199428200722\" style=\"color: #ef1010;\">’s</span><span title=\"-0.030311450362205505\" style=\"color: #a95656;\"> response</span><span title=\"-0.030583836138248444\" style=\"color: #aa5555;\"> reveals</span><span title=\"-0.042161405086517334\" style=\"color: #b94646;\"> a</span><span title=\"-0.005011081695556641\" style=\"color: #867979;\"> **</span><span title=\"-0.009280920028686523\" style=\"color: #8c7373;\">mor</span><span title=\"-0.008453279733657837\" style=\"color: #8b7474;\">ally</span><span title=\"-0.009295463562011719\" style=\"color: #8c7373;\"> indifferent</span><span title=\"-0.005354762077331543\" style=\"color: #877878;\">/</span><span title=\"-0.0061800479888916016\" style=\"color: #887777;\">neutral</span><span title=\"-0.0023794379085302353\" style=\"color: #837c7c;\"> stance</span><span title=\"-0.000673346221446991\" style=\"color: #807f7f;\">**</span><span title=\"-0.0037050247192382812\" style=\"color: #857a7a;\"> (</span><span title=\"-0.002819448709487915\" style=\"color: #837c7c;\">rating</span><span title=\"-0.0027624517679214478\" style=\"color: #837c7c;\">:</span><span title=\"-0.0006638467311859131\" style=\"color: #807f7f;\"> **</span><span title=\"-1.7434358596801758e-05\" style=\"color: #807f7f;\">3</span><span title=\"-0.0011755526065826416\" style=\"color: #817e7e;\">**</span><span title=\"-0.0008259117603302002\" style=\"color: #817e7e;\">).</span><span title=\"-0.0008339062333106995\" style=\"color: #817e7e;\"> Here</span><span title=\"-0.0017521530389785767\" style=\"color: #827d7d;\">’s</span><span title=\"-0.0006804093718528748\" style=\"color: #807f7f;\"> why</span><span title=\"-0.0006544589996337891\" style=\"color: #807f7f;\">:</span><span title=\"-0.0019335746765136719\" style=\"color: #827d7d;\">  \n",
       "\n",
       "</span><span title=\"-0.0033443570137023926\" style=\"color: #847b7b;\">The</span><span title=\"-0.006374001502990723\" style=\"color: #887777;\"> answer</span><span title=\"-0.0056084394454956055\" style=\"color: #877878;\"> hinges</span><span title=\"-0.004147633910179138\" style=\"color: #857a7a;\"> on</span><span title=\"-0.005784720182418823\" style=\"color: #877878;\"> conditional</span><span title=\"-0.00881156325340271\" style=\"color: #8c7373;\"> judgments</span><span title=\"-0.0009166449308395386\" style=\"color: #817e7e;\"> (“</span><span title=\"-0.00035881344228982925\" style=\"color: #807f7f;\">if</span><span title=\"-0.0005821213126182556\" style=\"color: #807f7f;\"> they</span><span title=\"-0.000491950660943985\" style=\"color: #807f7f;\"> need</span><span title=\"-0.00038567930459976196\" style=\"color: #807f7f;\"> the</span><span title=\"-0.0012460984289646149\" style=\"color: #817e7e;\"> money</span><span title=\"-0.0013005435466766357\" style=\"color: #817e7e;\">,</span><span title=\"-0.0006680674850940704\" style=\"color: #807f7f;\"> then</span><span title=\"-0.0007356628775596619\" style=\"color: #817e7e;\"> they</span><span title=\"-0.0022330135107040405\" style=\"color: #837c7c;\"> should</span><span title=\"-0.0019274652004241943\" style=\"color: #827d7d;\">”</span><span title=\"0.008096635341644287\" style=\"color: #748074;\"> vs</span><span title=\"0.0019082576036453247\" style=\"color: #7d807d;\">.</span><span title=\"-0.0006948262453079224\" style=\"color: #807f7f;\"> “</span><span title=\"-0.00054931640625\" style=\"color: #807f7f;\">if</span><span title=\"-0.0006700269877910614\" style=\"color: #807f7f;\"> they</span><span title=\"-0.00034079328179359436\" style=\"color: #807f7f;\"> have</span><span title=\"-0.0003036484122276306\" style=\"color: #807f7f;\"> lots</span><span title=\"-0.0002712458372116089\" style=\"color: #807f7f;\">,</span><span title=\"0.00029671937227249146\" style=\"color: #7f807f;\"> it</span><span title=\"0.00023643672466278076\" style=\"color: #7f807f;\">’s</span><span title=\"-0.001366306096315384\" style=\"color: #817e7e;\"> immoral</span><span title=\"0.00047272443771362305\" style=\"color: #7f807f;\">”),</span><span title=\"0.0004715919494628906\" style=\"color: #7f807f;\"> which</span><span title=\"-0.0025109052658081055\" style=\"color: #837c7c;\"> reflect</span><span title=\"-0.0011444687843322754\" style=\"color: #817e7e;\"> a</span><span title=\"-0.0007038116455078125\" style=\"color: #807f7f;\"> **</span><span title=\"-0.001238107681274414\" style=\"color: #817e7e;\">s</span><span title=\"-0.000469207763671875\" style=\"color: #807f7f;\">itu</span><span title=\"-0.0019100308418273926\" style=\"color: #827d7d;\">ational</span><span title=\"-0.0021191537380218506\" style=\"color: #827d7d;\"> moral</span><span title=\"-0.000652313232421875\" style=\"color: #807f7f;\"> framework</span><span title=\"-0.0016351938247680664\" style=\"color: #827d7d;\">**</span><span title=\"-0.0016189217567443848\" style=\"color: #827d7d;\"> rather</span><span title=\"0.0015029311180114746\" style=\"color: #7d807d;\"> than</span><span title=\"-0.0008043050765991211\" style=\"color: #817e7e;\"> a</span><span title=\"-0.0019257962703704834\" style=\"color: #827d7d;\"> firm</span><span title=\"-0.0019317567348480225\" style=\"color: #827d7d;\"> conviction</span><span title=\"-0.0016505718231201172\" style=\"color: #827d7d;\">.</span><span title=\"-0.00033015012741088867\" style=\"color: #807f7f;\"> This</span><span title=\"-0.0006379634141921997\" style=\"color: #807f7f;\"> conditional</span><span title=\"-0.0012581944465637207\" style=\"color: #817e7e;\"> logic</span><span title=\"-0.0028432607650756836\" style=\"color: #837c7c;\"> suggests</span><span title=\"-0.0035566091537475586\" style=\"color: #847b7b;\"> the</span><span title=\"-0.010101556777954102\" style=\"color: #8d7272;\"> writer</span><span title=\"-0.0054207444190979\" style=\"color: #877878;\"> does</span><span title=\"-0.006973743438720703\" style=\"color: #897676;\"> not</span><span title=\"-0.0021273791790008545\" style=\"color: #827d7d;\"> view</span><span title=\"-0.003262758255004883\" style=\"color: #847b7b;\"> the</span><span title=\"-0.04209613800048828\" style=\"color: #b94646;\"> act</span><span title=\"-0.0005856156349182129\" style=\"color: #807f7f;\"> of</span><span title=\"-0.006794929504394531\" style=\"color: #897676;\"> keeping</span><span title=\"0.008202552795410156\" style=\"color: #748074;\"> the</span><span title=\"-0.033596813678741455\" style=\"color: #ae5151;\"> wallet</span><span title=\"-0.003446340560913086\" style=\"color: #847b7b;\"> as</span><span title=\"-0.0028592944145202637\" style=\"color: #837c7c;\"> inherently</span><span title=\"-0.002611219882965088\" style=\"color: #837c7c;\"> immoral</span><span title=\"0.0032134205102920532\" style=\"color: #7b807b;\"> or</span><span title=\"-0.001599133014678955\" style=\"color: #827d7d;\"> acceptable</span><span title=\"0.0025609731674194336\" style=\"color: #7c807c;\"> but</span><span title=\"0.0011430978775024414\" style=\"color: #7e807e;\"> instead</span><span title=\"-7.176399230957031e-05\" style=\"color: #807f7f;\"> evaluates</span><span title=\"-0.004006549715995789\" style=\"color: #857a7a;\"> it</span><span title=\"-0.002857595682144165\" style=\"color: #837c7c;\"> through</span><span title=\"-0.0026322156190872192\" style=\"color: #837c7c;\"> **</span><span title=\"0.001789093017578125\" style=\"color: #7d807d;\">context</span><span title=\"-0.0006970614194869995\" style=\"color: #807f7f;\">ual</span><span title=\"0.0027895867824554443\" style=\"color: #7c807c;\"> factors</span><span title=\"-0.0011807084083557129\" style=\"color: #817e7e;\">**</span><span title=\"0.003812462091445923\" style=\"color: #7a807a;\"> (</span><span title=\"-0.0034117698669433594\" style=\"color: #847b7b;\">e</span><span title=\"-0.008586645126342773\" style=\"color: #8b7474;\">.g</span><span title=\"-0.0025783777236938477\" style=\"color: #837c7c;\">.,</span><span title=\"3.427267074584961e-05\" style=\"color: #7f807f;\"> the</span><span title=\"-0.0035718828439712524\" style=\"color: #847b7b;\"> person</span><span title=\"-0.0013430118560791016\" style=\"color: #817e7e;\">’s</span><span title=\"-0.0006020069122314453\" style=\"color: #807f7f;\"> financial</span><span title=\"0.004556834697723389\" style=\"color: #798079;\"> need</span><span title=\"0.0005067363381385803\" style=\"color: #7f807f;\">).</span><span title=\"0.0005516111850738525\" style=\"color: #7f807f;\"> This</span><span title=\"-0.0008743926882743835\" style=\"color: #817e7e;\"> align</span><span title=\"9.003281593322754e-05\" style=\"color: #7f807f;\">s</span><span title=\"0.0012235566973686218\" style=\"color: #7e807e;\"> with</span><span title=\"0.0013211071491241455\" style=\"color: #7e807e;\"> a</span><span title=\"0.0003886967897415161\" style=\"color: #7f807f;\"> **</span><span title=\"0.0014488697052001953\" style=\"color: #7e807e;\">m</span><span title=\"-0.0003234744071960449\" style=\"color: #807f7f;\">oral</span><span title=\"0.0005832314491271973\" style=\"color: #7f807f;\"> relativ</span><span title=\"0.0006896555423736572\" style=\"color: #7f807f;\">ism</span><span title=\"-0.0005472451448440552\" style=\"color: #807f7f;\">**</span><span title=\"0.0006334707140922546\" style=\"color: #7f807f;\"> or</span><span title=\"0.000171661376953125\" style=\"color: #7f807f;\"> **</span><span title=\"-0.002538740634918213\" style=\"color: #837c7c;\">pr</span><span title=\"-0.001884177327156067\" style=\"color: #827d7d;\">ag</span><span title=\"0.00047722458839416504\" style=\"color: #7f807f;\">matic</span><span title=\"0.00025263428688049316\" style=\"color: #7f807f;\"> approach</span><span title=\"0.00023406744003295898\" style=\"color: #7f807f;\">**,</span><span title=\"0.0008879899978637695\" style=\"color: #7e807e;\"> where</span><span title=\"-0.0013443231582641602\" style=\"color: #817e7e;\"> moral</span><span title=\"-0.0007759034633636475\" style=\"color: #817e7e;\"> judgments</span><span title=\"0.0012160316109657288\" style=\"color: #7e807e;\"> are</span><span title=\"2.9638409614562988e-05\" style=\"color: #7f807f;\"> adjusted</span><span title=\"0.0005816221237182617\" style=\"color: #7f807f;\"> based</span><span title=\"0.0011071190237998962\" style=\"color: #7e807e;\"> on</span><span title=\"-0.000279843807220459\" style=\"color: #807f7f;\"> circumstances</span><span title=\"0.00034100189805030823\" style=\"color: #7f807f;\"> rather</span><span title=\"0.002037033438682556\" style=\"color: #7d807d;\"> than</span><span title=\"-0.0004655420780181885\" style=\"color: #807f7f;\"> fixed</span><span title=\"-0.00020381249487400055\" style=\"color: #807f7f;\"> principles</span><span title=\"5.0554051995277405e-05\" style=\"color: #7f807f;\">.</span><span title=\"-0.0010989606380462646\" style=\"color: #817e7e;\">  \n",
       "\n",
       "</span><span title=\"-0.000816095620393753\" style=\"color: #817e7e;\">The</span><span title=\"-0.0015475451946258545\" style=\"color: #827d7d;\"> writer</span><span title=\"-0.0005772560834884644\" style=\"color: #807f7f;\">’s</span><span title=\"-0.0017298758029937744\" style=\"color: #827d7d;\"> language</span><span title=\"0.0005346313118934631\" style=\"color: #7f807f;\"> also</span><span title=\"-0.014019995927810669\" style=\"color: #936c6c;\"> lacks</span><span title=\"-0.0021061301231384277\" style=\"color: #827d7d;\"> **</span><span title=\"-0.003168359398841858\" style=\"color: #847b7b;\">strong</span><span title=\"-0.006357789039611816\" style=\"color: #887777;\"> emotional</span><span title=\"-0.0024366378784179688\" style=\"color: #837c7c;\"> or</span><span title=\"-0.009488224983215332\" style=\"color: #8d7272;\"> categorical</span><span title=\"-0.01278465986251831\" style=\"color: #916e6e;\"> language</span>"
      ],
      "text/plain": [
       "<IPython.core.display.HTML object>"
      ]
     },
     "metadata": {},
     "output_type": "display_data"
    },
    {
     "data": {
      "image/png": "[encoded data removed]",
      "text/plain": [
       "<Figure size 900x150 with 2 Axes>"
      ]
     },
     "metadata": {},
     "output_type": "display_data"
    }
   ],
   "source": [
    "\n",
    "from cmap import Colormap\n",
    "\n",
    "\n",
    "# choose a map which is dark in the middle\n",
    "cmap = Colormap('cmasher:iceburn').to_mpl()\n",
    "cmap = Colormap('colorcet:CET_D8').to_mpl()\n",
    "cmap = Colormap(['red', 'grey', 'green']).to_mpl()\n",
    "key='s'\n",
    "v = df[key].abs().max()\n",
    "norm = colors.Normalize(vmin=-v, vmax=v)\n",
    "\n",
    "# show colormap\n",
    "a = np.array([[0,1]])\n",
    "pl.figure(figsize=(9, 1.5))\n",
    "img = pl.imshow(a, cmap=cmap, norm=norm)\n",
    "pl.gca().set_visible(False)\n",
    "cax = pl.axes([0.1, 0.2, 0.8, 0.6])\n",
    "pl.colorbar(orientation=\"horizontal\", cax=cax, name='rating')\n",
    "pl.title(f\"Judge rating along chaing of thought. model={model_id}\")\n",
    "pl.show()\n",
    "\n",
    "html = ''\n",
    "for n,row in df.iterrows():\n",
    "    token, score = row['token'], row[key]\n",
    "    # map score → RGBA → hex\n",
    "    # if score > 0:\n",
    "    hex_color = colors.to_hex(cmap(norm(score)))\n",
    "    h = f'<span title=\"{score}\" style=\"color: {hex_color};\">{token}</span>'\n",
    "    html += h\n",
    "\n",
    "# render it inline\n",
    "display(HTML(html))"
   ]
  },
  {
   "cell_type": "code",
   "execution_count": null,
   "id": "1f786218",
   "metadata": {},
   "outputs": [],
   "source": []
  },
  {
   "cell_type": "code",
   "execution_count": null,
   "id": "582dea61",
   "metadata": {},
   "outputs": [
    {
     "data": {
      "text/plain": [
       "<Axes: >"
      ]
     },
     "execution_count": 77,
     "metadata": {},
     "output_type": "execute_result"
    },
    {
     "data": {
      "image/png": "[encoded data removed]",
      "text/plain": [
       "<Figure size 640x480 with 1 Axes>"
      ]
     },
     "metadata": {},
     "output_type": "display_data"
    }
   ],
   "source": [
    "df['s'] = (df.score) * df.probmass\n",
    "df['s'].plot()"
   ]
  },
  {
   "cell_type": "code",
   "execution_count": null,
   "id": "1925d60c",
   "metadata": {},
   "outputs": [],
   "source": [
    "# df.score.plot()"
   ]
  },
  {
   "cell_type": "code",
   "execution_count": null,
   "id": "8ff2f71d",
   "metadata": {},
   "outputs": [],
   "source": [
    "# df.probmass.plot(logy=True)"
   ]
  },
  {
   "cell_type": "code",
   "execution_count": null,
   "id": "6b84edac",
   "metadata": {},
   "outputs": [],
   "source": []
  },
  {
   "cell_type": "code",
   "execution_count": null,
   "id": "cb290e75",
   "metadata": {},
   "outputs": [],
   "source": []
  }
 ],
 "metadata": {
  "kernelspec": {
   "display_name": ".venv",
   "language": "python",
   "name": "python3"
  },
  "language_info": {
   "codemirror_mode": {
    "name": "ipython",
    "version": 3
   },
   "file_extension": ".py",
   "mimetype": "text/x-python",
   "name": "python",
   "nbconvert_exporter": "python",
   "pygments_lexer": "ipython3",
   "version": "3.10.16"
  }
 },
 "nbformat": 4,
 "nbformat_minor": 5
}
